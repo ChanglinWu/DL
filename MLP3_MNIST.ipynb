{
  "nbformat": 4,
  "nbformat_minor": 0,
  "metadata": {
    "colab": {
      "provenance": [],
      "machine_shape": "hm",
      "gpuType": "T4",
      "include_colab_link": true
    },
    "kernelspec": {
      "name": "python3",
      "display_name": "Python 3"
    },
    "language_info": {
      "name": "python"
    },
    "accelerator": "GPU"
  },
  "cells": [
    {
      "cell_type": "markdown",
      "metadata": {
        "id": "view-in-github",
        "colab_type": "text"
      },
      "source": [
        "<a href=\"https://colab.research.google.com/github/ChanglinWu/DL/blob/main/MLP3_MNIST.ipynb\" target=\"_parent\"><img src=\"https://colab.research.google.com/assets/colab-badge.svg\" alt=\"Open In Colab\"/></a>"
      ]
    },
    {
      "cell_type": "markdown",
      "source": [
        "# CityU EE5438: Applied Deep Learning\n",
        "\n",
        "## PyTorch Multi-Layer Perceptron (MLP) Image Classifier With MNIST Dataset\n",
        "\n",
        "In this example, we will use a popular deep learning framework called PyTorch to create a model that can recognize handwritten digits. The model is known as a Multi-Layer Perceptron (MLP) or Feedforward Neural Network. We will train this model using a dataset called MNIST, which contains 70,000 images of handwritten digits ranging from 0 to 9. Out of these images, we will use 60,000 to teach the model how to recognize and classify these digits. During the training process, we will also use 5,000 images to check and validate how well the model is learning. Once the training is complete, we will test the model on the remaining 5,000 images to see how accurately it can identify new handwritten digits that it has not seen before. This will help us evaluate the model's ability to recognize digits in real-world scenarios.\n",
        "\n",
        "<img src='https://www.ee.cityu.edu.hk/~lmpo/ee5438/images/mlp_mnist.png'>\n",
        "\n",
        "References:\n",
        "- https://pytorch.org/tutorials/beginner/basics/quickstart_tutorial.html\n",
        "- [Image Classifier using PyTorch and Keras](https://medium.com/dataseries/image-classifier-using-pytorch-and-keras-555007a50c2e)\n",
        "\n",
        "- [Basic Syntax of the Markdown elements.](https://www.markdownguide.org/basic-syntax/)"
      ],
      "metadata": {
        "id": "geV_9uIFBa5X"
      }
    },
    {
      "cell_type": "code",
      "source": [
        "# Install the torchinfo package for showing the network architecture information\n",
        "!pip install torchinfo -qqq"
      ],
      "metadata": {
        "id": "G6xxN4E44jyU"
      },
      "execution_count": null,
      "outputs": []
    },
    {
      "cell_type": "code",
      "execution_count": null,
      "metadata": {
        "id": "kaeUOXJv9BFO"
      },
      "outputs": [],
      "source": [
        "# Import the necessary libraries for working with MNIST dataset and PyTorch.\n",
        "import torch\n",
        "import torchvision\n",
        "from torchvision import datasets,transforms\n",
        "import torch.nn as nn\n",
        "import torch.nn.functional as F\n",
        "from torch import nn,optim,no_grad\n",
        "from torch.utils.data import DataLoader\n",
        "from torchinfo import summary\n",
        "\n",
        "import matplotlib.pyplot as plt\n",
        "from sklearn.metrics import classification_report\n",
        "import pandas as pd\n",
        "import numpy as np\n",
        "import pickle\n",
        "import sys\n",
        "import time"
      ]
    },
    {
      "cell_type": "code",
      "source": [
        "# To configure the usage of a GPU (cuda) or MPS (Apple) if either of them is available\n",
        "has_mps = torch.backends.mps.is_built()\n",
        "device = \"cuda\" if torch.cuda.is_available() else \"mps\" if has_mps else \"cpu\"\n",
        "print(f\"Python versoin: {sys.version_info.major, sys.version_info.minor, sys.version_info.micro}\")\n",
        "print(f\"PyTorch version: {torch.__version__}\")\n",
        "print(f\"Device: {device}\")"
      ],
      "metadata": {
        "colab": {
          "base_uri": "https://localhost:8080/"
        },
        "id": "7P-jEzcpA3jN",
        "outputId": "59af9637-9e62-4854-b619-136a6fb80ec9"
      },
      "execution_count": null,
      "outputs": [
        {
          "output_type": "stream",
          "name": "stdout",
          "text": [
            "Python versoin: (3, 10, 12)\n",
            "PyTorch version: 2.4.0+cu121\n",
            "Device: cuda\n"
          ]
        }
      ]
    },
    {
      "cell_type": "code",
      "source": [
        "# Set seed for reproducibility\n",
        "seed = 4016\n",
        "torch.manual_seed(seed)"
      ],
      "metadata": {
        "colab": {
          "base_uri": "https://localhost:8080/"
        },
        "id": "STDY_-9uBKg4",
        "outputId": "0bf1b505-93da-41ea-8a97-9e9bece38ca9"
      },
      "execution_count": null,
      "outputs": [
        {
          "output_type": "execute_result",
          "data": {
            "text/plain": [
              "<torch._C.Generator at 0x7be7bfb31fd0>"
            ]
          },
          "metadata": {},
          "execution_count": 4
        }
      ]
    },
    {
      "cell_type": "markdown",
      "source": [
        "# Download MNIST Dataset\n",
        "\n",
        "This code snippet creates DataLoaders to facilitate the downloading of the training and test sets. The MNIST training dataset, consisting of 6000 samples, is used to train the Model. The test dataset is randomly split into a validation set and a test set, each containing 5000 samples. The data loaders are employed to provide batches of data from the datasets for iteration. The training data comprises batches of images, with each image measuring 28 x 28 pixels. The corresponding labels indicate the correct Fashion labels (\"0\", \"1\", \"2\", \"3\",...,\"9\") for each image."
      ],
      "metadata": {
        "id": "BCRh2SZPBou1"
      }
    },
    {
      "cell_type": "code",
      "source": [
        "# Define data transformations for the training and test sets\n",
        "train_transform = transforms.Compose([\n",
        "     transforms.ToTensor(),  # Convert images to tensors\n",
        "     transforms.Normalize((0.5,), (0.5,))])  # Normalize the image data\n",
        "\n",
        "test_transform = transforms.Compose([\n",
        "     transforms.ToTensor(),  # Convert images to tensors\n",
        "     transforms.Normalize((0.5,), (0.5,))])  # Normalize the image data\n",
        "\n",
        "# Create the MNIST dataset for the training set with 60,000 images\n",
        "train_set = torchvision.datasets.MNIST(root='./data', train=True, download=True, transform=train_transform)\n",
        "\n",
        "# Create the MNIST dataset for the test set with 10,000 images\n",
        "test_dataset = torchvision.datasets.MNIST(root='./data', train=False, download=True, transform=test_transform)\n",
        "\n",
        "# Split the original test set into a validation set with 5,000 samples and a test set with 5,000 samples\n",
        "val_set, test_set = torch.utils.data.random_split(test_dataset, [5000, 5000])\n",
        "\n",
        "# Define the data loaders for the training, validation, and test sets\n",
        "train_loader = torch.utils.data.DataLoader(train_set, batch_size=256, shuffle=True, num_workers=2)\n",
        "val_loader = torch.utils.data.DataLoader(val_set, batch_size=256, shuffle=False, num_workers=2)\n",
        "test_loader = torch.utils.data.DataLoader(test_set, batch_size=256, shuffle=False, num_workers=2)\n",
        "\n",
        "# Define the classes for the MNIST dataset\n",
        "classes = ['0', '1', '2', '3', '4', '5', '6', '7', '8', '9']"
      ],
      "metadata": {
        "colab": {
          "base_uri": "https://localhost:8080/"
        },
        "id": "H07gqRRu9MPa",
        "outputId": "55244535-d16f-4267-97d7-7c69e1bb4688"
      },
      "execution_count": null,
      "outputs": [
        {
          "output_type": "stream",
          "name": "stdout",
          "text": [
            "Downloading http://yann.lecun.com/exdb/mnist/train-images-idx3-ubyte.gz\n",
            "Failed to download (trying next):\n",
            "HTTP Error 403: Forbidden\n",
            "\n",
            "Downloading https://ossci-datasets.s3.amazonaws.com/mnist/train-images-idx3-ubyte.gz\n",
            "Downloading https://ossci-datasets.s3.amazonaws.com/mnist/train-images-idx3-ubyte.gz to ./data/MNIST/raw/train-images-idx3-ubyte.gz\n"
          ]
        },
        {
          "output_type": "stream",
          "name": "stderr",
          "text": [
            "100%|██████████| 9912422/9912422 [00:11<00:00, 897711.55it/s] \n"
          ]
        },
        {
          "output_type": "stream",
          "name": "stdout",
          "text": [
            "Extracting ./data/MNIST/raw/train-images-idx3-ubyte.gz to ./data/MNIST/raw\n",
            "\n",
            "Downloading http://yann.lecun.com/exdb/mnist/train-labels-idx1-ubyte.gz\n",
            "Failed to download (trying next):\n",
            "HTTP Error 403: Forbidden\n",
            "\n",
            "Downloading https://ossci-datasets.s3.amazonaws.com/mnist/train-labels-idx1-ubyte.gz\n",
            "Downloading https://ossci-datasets.s3.amazonaws.com/mnist/train-labels-idx1-ubyte.gz to ./data/MNIST/raw/train-labels-idx1-ubyte.gz\n"
          ]
        },
        {
          "output_type": "stream",
          "name": "stderr",
          "text": [
            "100%|██████████| 28881/28881 [00:00<00:00, 64297.04it/s]\n"
          ]
        },
        {
          "output_type": "stream",
          "name": "stdout",
          "text": [
            "Extracting ./data/MNIST/raw/train-labels-idx1-ubyte.gz to ./data/MNIST/raw\n",
            "\n",
            "Downloading http://yann.lecun.com/exdb/mnist/t10k-images-idx3-ubyte.gz\n",
            "Failed to download (trying next):\n",
            "HTTP Error 403: Forbidden\n",
            "\n",
            "Downloading https://ossci-datasets.s3.amazonaws.com/mnist/t10k-images-idx3-ubyte.gz\n",
            "Downloading https://ossci-datasets.s3.amazonaws.com/mnist/t10k-images-idx3-ubyte.gz to ./data/MNIST/raw/t10k-images-idx3-ubyte.gz\n"
          ]
        },
        {
          "output_type": "stream",
          "name": "stderr",
          "text": [
            "100%|██████████| 1648877/1648877 [00:06<00:00, 247314.56it/s]\n"
          ]
        },
        {
          "output_type": "stream",
          "name": "stdout",
          "text": [
            "Extracting ./data/MNIST/raw/t10k-images-idx3-ubyte.gz to ./data/MNIST/raw\n",
            "\n",
            "Downloading http://yann.lecun.com/exdb/mnist/t10k-labels-idx1-ubyte.gz\n",
            "Failed to download (trying next):\n",
            "HTTP Error 403: Forbidden\n",
            "\n",
            "Downloading https://ossci-datasets.s3.amazonaws.com/mnist/t10k-labels-idx1-ubyte.gz\n",
            "Downloading https://ossci-datasets.s3.amazonaws.com/mnist/t10k-labels-idx1-ubyte.gz to ./data/MNIST/raw/t10k-labels-idx1-ubyte.gz\n"
          ]
        },
        {
          "output_type": "stream",
          "name": "stderr",
          "text": [
            "100%|██████████| 4542/4542 [00:00<00:00, 4989661.80it/s]"
          ]
        },
        {
          "output_type": "stream",
          "name": "stdout",
          "text": [
            "Extracting ./data/MNIST/raw/t10k-labels-idx1-ubyte.gz to ./data/MNIST/raw\n",
            "\n"
          ]
        },
        {
          "output_type": "stream",
          "name": "stderr",
          "text": [
            "\n"
          ]
        }
      ]
    },
    {
      "cell_type": "markdown",
      "source": [
        "##Visualize image for each class\n",
        "The first step in a classification task is to take a look at the data, make sure it is loaded in correctly, then make any initial observations about patterns in that data."
      ],
      "metadata": {
        "id": "5bKS9-vV7Xi6"
      }
    },
    {
      "cell_type": "code",
      "source": [
        "# Visualize training image for each class\n",
        "sample_images = [train_set.data[np.asarray(train_set.targets) == label][0] for label in range(10)]\n",
        "# show images\n",
        "fig, axes = plt.subplots(2, 5, figsize=(12, 6))\n",
        "i = 0\n",
        "for row in axes:\n",
        "  for axis in row:\n",
        "    axis.set_xticks([])\n",
        "    axis.set_yticks([])\n",
        "    axis.set_xlabel(classes[i], fontsize=15)\n",
        "    axis.imshow(sample_images[i], cmap='gray')\n",
        "    i += 1"
      ],
      "metadata": {
        "colab": {
          "base_uri": "https://localhost:8080/",
          "height": 474
        },
        "id": "J5C8bcuO7Yoq",
        "outputId": "08b44911-c598-4dc8-9940-47fafab9e8b0"
      },
      "execution_count": null,
      "outputs": [
        {
          "output_type": "display_data",
          "data": {
            "text/plain": [
              "<Figure size 1200x600 with 10 Axes>"
            ],
            "image/png": "[encoded data removed]"
          },
          "metadata": {}
        }
      ]
    },
    {
      "cell_type": "markdown",
      "source": [
        "# Define the MLP Network Architecture\n",
        "\n",
        "The following code defines a class called MLPNet which inherits from nn.Module. The network has 3 fully-connected layers:\n",
        "\n",
        "- fc1 takes the 784-pixel MNIST image as input and outputs 128 nodes\n",
        "- fc2 takes the 128 nodes and outputs 64 nodes\n",
        "- fc3 takes the 64 nodes and outputs predictions for the 10 classes\n",
        "\n",
        "The forward method defines the forward pass through the network. It applies ReLU activation on the first two layers and log softmax on the output layer"
      ],
      "metadata": {
        "id": "DKv4piyFCkOr"
      }
    },
    {
      "cell_type": "code",
      "source": [
        "# Define model\n",
        "class MLP(nn.Module):\n",
        "    def __init__(self):\n",
        "        super().__init__()\n",
        "        self.flatten = nn.Flatten()\n",
        "        self.linear_relu_stack = nn.Sequential(\n",
        "            nn.Linear(28*28, 128),\n",
        "            nn.ReLU(),\n",
        "            nn.Linear(128, 64),\n",
        "            nn.ReLU(),\n",
        "            nn.Linear(64, 10)\n",
        "        )\n",
        "\n",
        "    def forward(self, x):\n",
        "        x = self.flatten(x)\n",
        "        logits = self.linear_relu_stack(x)\n",
        "        return logits\n",
        "\n",
        "model = MLP()\n",
        "print(model)"
      ],
      "metadata": {
        "colab": {
          "base_uri": "https://localhost:8080/"
        },
        "id": "zXwiiv6miu_o",
        "outputId": "d22c1fe9-c63c-4323-bfeb-258bd642df0b"
      },
      "execution_count": null,
      "outputs": [
        {
          "output_type": "stream",
          "name": "stdout",
          "text": [
            "MLP(\n",
            "  (flatten): Flatten(start_dim=1, end_dim=-1)\n",
            "  (linear_relu_stack): Sequential(\n",
            "    (0): Linear(in_features=784, out_features=128, bias=True)\n",
            "    (1): ReLU()\n",
            "    (2): Linear(in_features=128, out_features=64, bias=True)\n",
            "    (3): ReLU()\n",
            "    (4): Linear(in_features=64, out_features=10, bias=True)\n",
            "  )\n",
            ")\n"
          ]
        }
      ]
    },
    {
      "cell_type": "code",
      "source": [
        "# class MLP(nn.Module):\n",
        "#     def __init__(self):\n",
        "#         super(MLP, self).__init__()\n",
        "\n",
        "#         # Define the layers of the MLP\n",
        "#         self.fc1 = nn.Linear(784, 128)  # First fully connected layer, input size 784, output size 128\n",
        "#         self.fc2 = nn.Linear(128, 64)  # Second fully connected layer, input size 128, output size 64\n",
        "#         self.fc3 = nn.Linear(64, 10)  # Third fully connected layer, input size 64, output size 10\n",
        "\n",
        "#         self.activation = nn.ReLU()  # Activation function used between layers\n",
        "\n",
        "#     def forward(self, x):\n",
        "#         x = x.view(-1, 784)  # Reshape the input tensor to have dimensions (-1, 784)\n",
        "#         x = self.activation(self.fc1(x))  # Apply the activation function to the output of the first layer\n",
        "#         x = self.activation(self.fc2(x))  # Apply the activation function to the output of the second layer\n",
        "#         x = self.fc3(x)  # Output of the third layer\n",
        "#         return F.log_softmax(x, dim=1)  # Apply log softmax function to normalize the output probabilities along dimension 1"
      ],
      "metadata": {
        "id": "GWhgpH_O9YUB"
      },
      "execution_count": null,
      "outputs": []
    },
    {
      "cell_type": "code",
      "source": [
        "model = MLP()"
      ],
      "metadata": {
        "id": "UoDDJo0N4tvz"
      },
      "execution_count": null,
      "outputs": []
    },
    {
      "cell_type": "markdown",
      "source": [
        "## Print the Model Structure, Number of Parameters and FLOPs"
      ],
      "metadata": {
        "id": "ql63iTPOw6no"
      }
    },
    {
      "cell_type": "code",
      "source": [
        "summary(model=MLP(), input_size=(1, 1, 28, 28), col_width=20,\n",
        "                  col_names=['input_size', 'output_size', 'num_params', 'trainable'], row_settings=['var_names'], verbose=0)"
      ],
      "metadata": {
        "colab": {
          "base_uri": "https://localhost:8080/"
        },
        "id": "ss1lkdv4461V",
        "outputId": "748c5ed7-be77-41fd-c715-63bef29f155d"
      },
      "execution_count": null,
      "outputs": [
        {
          "output_type": "execute_result",
          "data": {
            "text/plain": [
              "========================================================================================================================\n",
              "Layer (type (var_name))                  Input Shape          Output Shape         Param #              Trainable\n",
              "========================================================================================================================\n",
              "MLP (MLP)                                [1, 1, 28, 28]       [1, 10]              --                   True\n",
              "├─Flatten (flatten)                      [1, 1, 28, 28]       [1, 784]             --                   --\n",
              "├─Sequential (linear_relu_stack)         [1, 784]             [1, 10]              --                   True\n",
              "│    └─Linear (0)                        [1, 784]             [1, 128]             100,480              True\n",
              "│    └─ReLU (1)                          [1, 128]             [1, 128]             --                   --\n",
              "│    └─Linear (2)                        [1, 128]             [1, 64]              8,256                True\n",
              "│    └─ReLU (3)                          [1, 64]              [1, 64]              --                   --\n",
              "│    └─Linear (4)                        [1, 64]              [1, 10]              650                  True\n",
              "========================================================================================================================\n",
              "Total params: 109,386\n",
              "Trainable params: 109,386\n",
              "Non-trainable params: 0\n",
              "Total mult-adds (M): 0.11\n",
              "========================================================================================================================\n",
              "Input size (MB): 0.00\n",
              "Forward/backward pass size (MB): 0.00\n",
              "Params size (MB): 0.44\n",
              "Estimated Total Size (MB): 0.44\n",
              "========================================================================================================================"
            ]
          },
          "metadata": {},
          "execution_count": 10
        }
      ]
    },
    {
      "cell_type": "markdown",
      "source": [
        "## Specify Loss Function and Optimizer\n",
        "It's recommended that you use cross-entropy loss for classification. If you look at the documentation (linked above), you can see that PyTorch's cross entropy function applies a softmax funtion to the output layer and then calculates the log loss."
      ],
      "metadata": {
        "id": "07dGY0PlF0Pt"
      }
    },
    {
      "cell_type": "code",
      "source": [
        "# Specify loss function (categorical cross-entropy)\n",
        "criterion = nn.CrossEntropyLoss()\n",
        "\n",
        "# Specify optimizer (stochastic gradient descent) and learning rate = 0.01\n",
        "optimizer = optim.SGD(model.parameters(), lr=0.01)\n",
        "\n",
        "# Specify Adam optimizer with defualt setting\n",
        "# optimizer = optim.Adam(model.parameters(), lr=0.01, betas=(0.9, 0.999), eps=1e-08, weight_decay=0, amsgrad=False)\n",
        "\n",
        "# Specify learning rate scheduler\n",
        "# scheduler = lr_scheduler.ReduceLROnPlateau(optimizer, mode='min', factor=0.5, patience=20, verbose=True)"
      ],
      "metadata": {
        "id": "xrAg0vt99cFL"
      },
      "execution_count": null,
      "outputs": []
    },
    {
      "cell_type": "markdown",
      "source": [
        "##Training the Network\n",
        "The steps for training/learning from a batch of data are described in the comments below:\n",
        "\n",
        "Clear the gradients of all optimized variables Forward pass: compute predicted outputs by passing inputs to the model Calculate the loss Backward pass: compute gradient of the loss with respect to model parameters Perform a single optimization step (parameter update) Update average training loss The following loop trains for 100 epochs; take a look at how the values for the training loss decrease over time. We want it to decrease while also avoiding overfitting the training data."
      ],
      "metadata": {
        "id": "FfDvbGZ873Ne"
      }
    },
    {
      "cell_type": "code",
      "source": [
        "# Create a Models folder to store the checkpoints\n",
        "!mkdir Models"
      ],
      "metadata": {
        "id": "liyNaBxl90HZ"
      },
      "execution_count": null,
      "outputs": []
    },
    {
      "cell_type": "code",
      "source": [
        "EPOCHS = 100\n",
        "\n",
        "loss_hist, acc_hist = [], []  # Lists to store training loss and accuracy\n",
        "loss_hist_val, acc_hist_val = [], []  # Lists to store validation loss and accuracy\n",
        "\n",
        "model.to(device)  # Move the model to the specified device (e.g., GPU)\n",
        "\n",
        "print(\"Training was started.\\n\")\n",
        "\n",
        "for epoch in range(1, EPOCHS + 1):\n",
        "    time_ckpt = time.time()\n",
        "    print(\"EPOCH:\", epoch, end=\" \")\n",
        "    running_loss = 0.0\n",
        "    correct = 0\n",
        "\n",
        "    # Training loop\n",
        "    for data in train_loader:\n",
        "        batch, labels = data\n",
        "        batch, labels = batch.to(device), labels.to(device)\n",
        "\n",
        "        optimizer.zero_grad()  # Clear the gradients\n",
        "        outputs = model(batch)  # Forward pass\n",
        "        loss = criterion(outputs, labels)  # Compute the loss\n",
        "        loss.backward()  # Backward pass (compute gradients)\n",
        "        optimizer.step()  # Update the model's parameters\n",
        "\n",
        "        # Compute training statistics\n",
        "        _, predicted = torch.max(outputs, 1)\n",
        "        correct += (predicted == labels).sum().item()\n",
        "        running_loss += loss.item()\n",
        "\n",
        "    avg_loss = running_loss / len(train_set)  # Average training loss for the epoch\n",
        "    avg_acc = correct / len(train_set)  # Average training accuracy for the epoch\n",
        "    loss_hist.append(avg_loss)\n",
        "    acc_hist.append(avg_acc)\n",
        "\n",
        "    # Validation statistics\n",
        "    model.eval()  # Set the model to evaluation mode\n",
        "    with torch.no_grad():\n",
        "        loss_val = 0.0\n",
        "        correct_val = 0\n",
        "\n",
        "        # Validation loop\n",
        "        for data in val_loader:\n",
        "            batch, labels = data\n",
        "            batch, labels = batch.to(device), labels.to(device)\n",
        "            outputs = model(batch)\n",
        "            loss = criterion(outputs, labels)\n",
        "            _, predicted = torch.max(outputs, 1)\n",
        "            correct_val += (predicted == labels).sum().item()\n",
        "            loss_val += loss.item()\n",
        "\n",
        "        avg_loss_val = loss_val / len(val_set)  # Average validation loss for the epoch\n",
        "        avg_acc_val = correct_val / len(val_set)  # Average validation accuracy for the epoch\n",
        "        loss_hist_val.append(avg_loss_val)\n",
        "        acc_hist_val.append(avg_acc_val)\n",
        "\n",
        "    model.train()  # Set the model back to training mode\n",
        "#     scheduler.step(avg_loss_val) # Check the scheduler for updating the learning rate\n",
        "\n",
        "    # Save the model at the end of each epoch\n",
        "    with open(\"Models/MLP_model_{}.pth\".format(epoch), \"wb\") as f:\n",
        "        model.eval()\n",
        "        pickle.dump(model, f)\n",
        "        model.train()\n",
        "\n",
        "    print(\"Train Loss: {:.3f}\".format(avg_loss * 100), end=\" \")\n",
        "    print(\"Val Loss: {:.3f}\".format(avg_loss_val * 100), end=\" \")\n",
        "    print(\"Train Accuracy: {:.2f}%\".format(avg_acc * 100), end=\" \")\n",
        "    print(\"Val Accuracy: {:.2f}%\".format(avg_acc_val * 100), end=\" \")\n",
        "    print(\"Time: {:.2f}s\".format(time.time() - time_ckpt), end=\" \\n\")\n"
      ],
      "metadata": {
        "colab": {
          "base_uri": "https://localhost:8080/"
        },
        "id": "cJzMiqrp8KNs",
        "outputId": "27744d19-5347-4f62-dc57-e4e4a99d8d00"
      },
      "execution_count": null,
      "outputs": [
        {
          "output_type": "stream",
          "name": "stdout",
          "text": [
            "Training was started.\n",
            "\n",
            "EPOCH: 1 Train Loss: 0.789 Val Loss: 0.602 Train Accuracy: 43.94% Val Accuracy: 68.78% Time: 7.72s \n",
            "EPOCH: 2 Train Loss: 0.394 Val Loss: 0.269 Train Accuracy: 77.42% Val Accuracy: 84.06% Time: 7.34s \n",
            "EPOCH: 3 Train Loss: 0.228 Val Loss: 0.192 Train Accuracy: 85.00% Val Accuracy: 87.68% Time: 7.33s \n",
            "EPOCH: 4 Train Loss: 0.183 Val Loss: 0.166 Train Accuracy: 87.21% Val Accuracy: 88.90% Time: 7.52s \n",
            "EPOCH: 5 Train Loss: 0.162 Val Loss: 0.150 Train Accuracy: 88.38% Val Accuracy: 89.14% Time: 7.44s \n",
            "EPOCH: 6 Train Loss: 0.150 Val Loss: 0.139 Train Accuracy: 89.17% Val Accuracy: 90.50% Time: 7.46s \n",
            "EPOCH: 7 Train Loss: 0.142 Val Loss: 0.130 Train Accuracy: 89.59% Val Accuracy: 90.78% Time: 7.44s \n",
            "EPOCH: 8 Train Loss: 0.136 Val Loss: 0.125 Train Accuracy: 90.05% Val Accuracy: 91.32% Time: 7.30s \n",
            "EPOCH: 9 Train Loss: 0.131 Val Loss: 0.121 Train Accuracy: 90.42% Val Accuracy: 91.64% Time: 7.49s \n",
            "EPOCH: 10 Train Loss: 0.126 Val Loss: 0.118 Train Accuracy: 90.73% Val Accuracy: 91.86% Time: 7.38s \n",
            "EPOCH: 11 Train Loss: 0.123 Val Loss: 0.114 Train Accuracy: 90.98% Val Accuracy: 92.08% Time: 7.46s \n",
            "EPOCH: 12 Train Loss: 0.120 Val Loss: 0.111 Train Accuracy: 91.16% Val Accuracy: 92.26% Time: 7.22s \n",
            "EPOCH: 13 Train Loss: 0.117 Val Loss: 0.109 Train Accuracy: 91.42% Val Accuracy: 92.48% Time: 7.66s \n",
            "EPOCH: 14 Train Loss: 0.114 Val Loss: 0.107 Train Accuracy: 91.55% Val Accuracy: 92.58% Time: 7.93s \n",
            "EPOCH: 15 Train Loss: 0.111 Val Loss: 0.104 Train Accuracy: 91.74% Val Accuracy: 92.76% Time: 7.21s \n",
            "EPOCH: 16 Train Loss: 0.109 Val Loss: 0.101 Train Accuracy: 91.97% Val Accuracy: 93.02% Time: 7.27s \n",
            "EPOCH: 17 Train Loss: 0.106 Val Loss: 0.101 Train Accuracy: 92.10% Val Accuracy: 92.90% Time: 7.39s \n",
            "EPOCH: 18 Train Loss: 0.104 Val Loss: 0.097 Train Accuracy: 92.25% Val Accuracy: 93.28% Time: 7.03s \n",
            "EPOCH: 19 Train Loss: 0.102 Val Loss: 0.097 Train Accuracy: 92.40% Val Accuracy: 93.40% Time: 7.41s \n",
            "EPOCH: 20 Train Loss: 0.100 Val Loss: 0.097 Train Accuracy: 92.66% Val Accuracy: 93.44% Time: 7.41s \n",
            "EPOCH: 21 Train Loss: 0.098 Val Loss: 0.093 Train Accuracy: 92.73% Val Accuracy: 93.62% Time: 7.23s \n",
            "EPOCH: 22 Train Loss: 0.096 Val Loss: 0.090 Train Accuracy: 92.89% Val Accuracy: 93.80% Time: 7.36s \n",
            "EPOCH: 23 Train Loss: 0.094 Val Loss: 0.089 Train Accuracy: 93.09% Val Accuracy: 93.58% Time: 7.27s \n",
            "EPOCH: 24 Train Loss: 0.092 Val Loss: 0.087 Train Accuracy: 93.25% Val Accuracy: 93.90% Time: 7.28s \n",
            "EPOCH: 25 Train Loss: 0.090 Val Loss: 0.085 Train Accuracy: 93.39% Val Accuracy: 94.14% Time: 7.29s \n",
            "EPOCH: 26 Train Loss: 0.088 Val Loss: 0.084 Train Accuracy: 93.58% Val Accuracy: 94.16% Time: 7.26s \n",
            "EPOCH: 27 Train Loss: 0.086 Val Loss: 0.081 Train Accuracy: 93.72% Val Accuracy: 94.40% Time: 7.52s \n",
            "EPOCH: 28 Train Loss: 0.085 Val Loss: 0.080 Train Accuracy: 93.80% Val Accuracy: 94.48% Time: 7.23s \n",
            "EPOCH: 29 Train Loss: 0.083 Val Loss: 0.080 Train Accuracy: 93.94% Val Accuracy: 94.64% Time: 7.30s \n",
            "EPOCH: 30 Train Loss: 0.081 Val Loss: 0.078 Train Accuracy: 94.09% Val Accuracy: 94.80% Time: 7.36s \n",
            "EPOCH: 31 Train Loss: 0.079 Val Loss: 0.077 Train Accuracy: 94.24% Val Accuracy: 94.84% Time: 7.32s \n",
            "EPOCH: 32 Train Loss: 0.078 Val Loss: 0.075 Train Accuracy: 94.32% Val Accuracy: 94.86% Time: 7.42s \n",
            "EPOCH: 33 Train Loss: 0.076 Val Loss: 0.077 Train Accuracy: 94.42% Val Accuracy: 94.96% Time: 7.50s \n",
            "EPOCH: 34 Train Loss: 0.075 Val Loss: 0.072 Train Accuracy: 94.55% Val Accuracy: 94.92% Time: 7.50s \n",
            "EPOCH: 35 Train Loss: 0.073 Val Loss: 0.070 Train Accuracy: 94.66% Val Accuracy: 94.96% Time: 7.39s \n",
            "EPOCH: 36 Train Loss: 0.072 Val Loss: 0.070 Train Accuracy: 94.77% Val Accuracy: 95.06% Time: 7.45s \n",
            "EPOCH: 37 Train Loss: 0.071 Val Loss: 0.069 Train Accuracy: 94.88% Val Accuracy: 95.20% Time: 7.33s \n",
            "EPOCH: 38 Train Loss: 0.069 Val Loss: 0.068 Train Accuracy: 94.94% Val Accuracy: 95.22% Time: 7.35s \n",
            "EPOCH: 39 Train Loss: 0.068 Val Loss: 0.067 Train Accuracy: 95.05% Val Accuracy: 95.10% Time: 7.15s \n",
            "EPOCH: 40 Train Loss: 0.067 Val Loss: 0.066 Train Accuracy: 95.14% Val Accuracy: 95.26% Time: 7.41s \n",
            "EPOCH: 41 Train Loss: 0.066 Val Loss: 0.064 Train Accuracy: 95.21% Val Accuracy: 95.38% Time: 7.33s \n",
            "EPOCH: 42 Train Loss: 0.064 Val Loss: 0.063 Train Accuracy: 95.31% Val Accuracy: 95.44% Time: 7.19s \n",
            "EPOCH: 43 Train Loss: 0.063 Val Loss: 0.062 Train Accuracy: 95.35% Val Accuracy: 95.54% Time: 7.48s \n",
            "EPOCH: 44 Train Loss: 0.062 Val Loss: 0.061 Train Accuracy: 95.45% Val Accuracy: 95.32% Time: 7.53s \n",
            "EPOCH: 45 Train Loss: 0.061 Val Loss: 0.060 Train Accuracy: 95.53% Val Accuracy: 95.64% Time: 7.48s \n",
            "EPOCH: 46 Train Loss: 0.060 Val Loss: 0.061 Train Accuracy: 95.62% Val Accuracy: 95.50% Time: 7.45s \n",
            "EPOCH: 47 Train Loss: 0.059 Val Loss: 0.060 Train Accuracy: 95.68% Val Accuracy: 95.68% Time: 7.13s \n",
            "EPOCH: 48 Train Loss: 0.058 Val Loss: 0.058 Train Accuracy: 95.75% Val Accuracy: 95.76% Time: 7.25s \n",
            "EPOCH: 49 Train Loss: 0.057 Val Loss: 0.057 Train Accuracy: 95.83% Val Accuracy: 95.70% Time: 7.44s \n",
            "EPOCH: 50 Train Loss: 0.056 Val Loss: 0.056 Train Accuracy: 95.86% Val Accuracy: 95.94% Time: 7.13s \n",
            "EPOCH: 51 Train Loss: 0.055 Val Loss: 0.056 Train Accuracy: 95.99% Val Accuracy: 95.88% Time: 7.41s \n",
            "EPOCH: 52 Train Loss: 0.054 Val Loss: 0.054 Train Accuracy: 96.07% Val Accuracy: 95.92% Time: 7.26s \n",
            "EPOCH: 53 Train Loss: 0.054 Val Loss: 0.054 Train Accuracy: 96.08% Val Accuracy: 95.92% Time: 7.47s \n",
            "EPOCH: 54 Train Loss: 0.053 Val Loss: 0.053 Train Accuracy: 96.16% Val Accuracy: 96.12% Time: 7.31s \n",
            "EPOCH: 55 Train Loss: 0.052 Val Loss: 0.052 Train Accuracy: 96.21% Val Accuracy: 96.04% Time: 7.11s \n",
            "EPOCH: 56 Train Loss: 0.051 Val Loss: 0.053 Train Accuracy: 96.25% Val Accuracy: 96.04% Time: 7.28s \n",
            "EPOCH: 57 Train Loss: 0.050 Val Loss: 0.053 Train Accuracy: 96.36% Val Accuracy: 96.12% Time: 7.37s \n",
            "EPOCH: 58 Train Loss: 0.049 Val Loss: 0.050 Train Accuracy: 96.40% Val Accuracy: 96.26% Time: 7.27s \n",
            "EPOCH: 59 Train Loss: 0.049 Val Loss: 0.051 Train Accuracy: 96.43% Val Accuracy: 96.14% Time: 7.38s \n",
            "EPOCH: 60 Train Loss: 0.048 Val Loss: 0.050 Train Accuracy: 96.50% Val Accuracy: 96.34% Time: 7.19s \n",
            "EPOCH: 61 Train Loss: 0.047 Val Loss: 0.049 Train Accuracy: 96.56% Val Accuracy: 96.42% Time: 7.37s \n",
            "EPOCH: 62 Train Loss: 0.047 Val Loss: 0.048 Train Accuracy: 96.66% Val Accuracy: 96.48% Time: 7.36s \n",
            "EPOCH: 63 Train Loss: 0.046 Val Loss: 0.048 Train Accuracy: 96.68% Val Accuracy: 96.28% Time: 7.13s \n",
            "EPOCH: 64 Train Loss: 0.045 Val Loss: 0.050 Train Accuracy: 96.69% Val Accuracy: 96.30% Time: 7.17s \n",
            "EPOCH: 65 Train Loss: 0.045 Val Loss: 0.047 Train Accuracy: 96.75% Val Accuracy: 96.48% Time: 7.20s \n",
            "EPOCH: 66 Train Loss: 0.044 Val Loss: 0.047 Train Accuracy: 96.80% Val Accuracy: 96.56% Time: 7.14s \n",
            "EPOCH: 67 Train Loss: 0.043 Val Loss: 0.045 Train Accuracy: 96.87% Val Accuracy: 96.58% Time: 7.32s \n",
            "EPOCH: 68 Train Loss: 0.043 Val Loss: 0.045 Train Accuracy: 96.94% Val Accuracy: 96.64% Time: 7.11s \n",
            "EPOCH: 69 Train Loss: 0.042 Val Loss: 0.045 Train Accuracy: 96.97% Val Accuracy: 96.52% Time: 7.23s \n",
            "EPOCH: 70 Train Loss: 0.042 Val Loss: 0.046 Train Accuracy: 97.01% Val Accuracy: 96.48% Time: 7.35s \n",
            "EPOCH: 71 Train Loss: 0.041 Val Loss: 0.044 Train Accuracy: 97.06% Val Accuracy: 96.58% Time: 7.25s \n",
            "EPOCH: 72 Train Loss: 0.041 Val Loss: 0.044 Train Accuracy: 97.12% Val Accuracy: 96.62% Time: 7.25s \n",
            "EPOCH: 73 Train Loss: 0.040 Val Loss: 0.044 Train Accuracy: 97.16% Val Accuracy: 96.64% Time: 7.19s \n",
            "EPOCH: 74 Train Loss: 0.039 Val Loss: 0.044 Train Accuracy: 97.17% Val Accuracy: 96.58% Time: 7.38s \n",
            "EPOCH: 75 Train Loss: 0.039 Val Loss: 0.043 Train Accuracy: 97.21% Val Accuracy: 96.80% Time: 7.32s \n",
            "EPOCH: 76 Train Loss: 0.038 Val Loss: 0.043 Train Accuracy: 97.26% Val Accuracy: 96.74% Time: 7.43s \n",
            "EPOCH: 77 Train Loss: 0.038 Val Loss: 0.042 Train Accuracy: 97.28% Val Accuracy: 96.88% Time: 7.32s \n",
            "EPOCH: 78 Train Loss: 0.037 Val Loss: 0.043 Train Accuracy: 97.31% Val Accuracy: 96.78% Time: 6.98s \n",
            "EPOCH: 79 Train Loss: 0.037 Val Loss: 0.042 Train Accuracy: 97.34% Val Accuracy: 97.04% Time: 7.36s \n",
            "EPOCH: 80 Train Loss: 0.036 Val Loss: 0.041 Train Accuracy: 97.39% Val Accuracy: 96.84% Time: 7.15s \n",
            "EPOCH: 81 Train Loss: 0.036 Val Loss: 0.041 Train Accuracy: 97.41% Val Accuracy: 97.10% Time: 7.10s \n",
            "EPOCH: 82 Train Loss: 0.035 Val Loss: 0.042 Train Accuracy: 97.45% Val Accuracy: 96.98% Time: 7.18s \n",
            "EPOCH: 83 Train Loss: 0.035 Val Loss: 0.040 Train Accuracy: 97.52% Val Accuracy: 97.12% Time: 6.98s \n",
            "EPOCH: 84 Train Loss: 0.035 Val Loss: 0.040 Train Accuracy: 97.54% Val Accuracy: 96.90% Time: 7.25s \n",
            "EPOCH: 85 Train Loss: 0.034 Val Loss: 0.040 Train Accuracy: 97.59% Val Accuracy: 97.08% Time: 7.24s \n",
            "EPOCH: 86 Train Loss: 0.034 Val Loss: 0.039 Train Accuracy: 97.62% Val Accuracy: 97.02% Time: 7.04s \n",
            "EPOCH: 87 Train Loss: 0.033 Val Loss: 0.039 Train Accuracy: 97.64% Val Accuracy: 97.20% Time: 7.16s \n",
            "EPOCH: 88 Train Loss: 0.033 Val Loss: 0.039 Train Accuracy: 97.65% Val Accuracy: 97.20% Time: 7.04s \n",
            "EPOCH: 89 Train Loss: 0.032 Val Loss: 0.039 Train Accuracy: 97.70% Val Accuracy: 97.04% Time: 7.23s \n",
            "EPOCH: 90 Train Loss: 0.032 Val Loss: 0.038 Train Accuracy: 97.71% Val Accuracy: 97.16% Time: 7.15s \n",
            "EPOCH: 91 Train Loss: 0.032 Val Loss: 0.038 Train Accuracy: 97.78% Val Accuracy: 97.20% Time: 7.10s \n",
            "EPOCH: 92 Train Loss: 0.031 Val Loss: 0.038 Train Accuracy: 97.78% Val Accuracy: 97.14% Time: 7.26s \n",
            "EPOCH: 93 Train Loss: 0.031 Val Loss: 0.037 Train Accuracy: 97.82% Val Accuracy: 97.24% Time: 7.19s \n",
            "EPOCH: 94 Train Loss: 0.031 Val Loss: 0.037 Train Accuracy: 97.85% Val Accuracy: 97.16% Time: 7.23s \n",
            "EPOCH: 95 Train Loss: 0.030 Val Loss: 0.038 Train Accuracy: 97.85% Val Accuracy: 97.12% Time: 7.19s \n",
            "EPOCH: 96 Train Loss: 0.030 Val Loss: 0.037 Train Accuracy: 97.92% Val Accuracy: 97.10% Time: 7.24s \n",
            "EPOCH: 97 Train Loss: 0.029 Val Loss: 0.037 Train Accuracy: 97.89% Val Accuracy: 97.02% Time: 7.16s \n",
            "EPOCH: 98 Train Loss: 0.029 Val Loss: 0.037 Train Accuracy: 97.93% Val Accuracy: 97.20% Time: 7.21s \n",
            "EPOCH: 99 Train Loss: 0.029 Val Loss: 0.037 Train Accuracy: 97.98% Val Accuracy: 97.28% Time: 7.14s \n",
            "EPOCH: 100 Train Loss: 0.028 Val Loss: 0.037 Train Accuracy: 97.98% Val Accuracy: 97.08% Time: 7.16s \n"
          ]
        }
      ]
    },
    {
      "cell_type": "markdown",
      "source": [
        "## Plotting Training Statistics\n",
        "\n",
        "Loss is a function of the difference of the network output and the target values. We are minimizing the loss function during training so it should decrease over time. Accuracy is the classification accuracy for the test data."
      ],
      "metadata": {
        "id": "RIJX4fgo9REu"
      }
    },
    {
      "cell_type": "code",
      "source": [
        "plots=[(loss_hist,loss_hist_val),(acc_hist,acc_hist_val)]\n",
        "plt_labels=[(\"Training Loss\",\"Validation Loss\"),(\"Training Accuracy\",\"Validation Accuracy\")]\n",
        "plt_titles=[\"Loss\",\"Accuracy\"]\n",
        "plt.figure(figsize=(20,7))\n",
        "for i in range(0,2):\n",
        "    ax=plt.subplot(1,2,i+1)\n",
        "    ax.plot(plots[i][0],label=plt_labels[i][0])\n",
        "    ax.plot(plots[i][1],label=plt_labels[i][1])\n",
        "    ax.set_title(plt_titles[i])\n",
        "    ax.legend()"
      ],
      "metadata": {
        "colab": {
          "base_uri": "https://localhost:8080/"
        },
        "id": "UoAHKztK9lL1",
        "outputId": "9d1dc612-3ccc-4295-b3a9-08ee3f13c473"
      },
      "execution_count": null,
      "outputs": [
        {
          "output_type": "display_data",
          "data": {
            "text/plain": [
              "<Figure size 2000x700 with 2 Axes>"
            ],
            "image/png": "[encoded data removed]"
          },
          "metadata": {}
        }
      ]
    },
    {
      "cell_type": "markdown",
      "source": [
        "##Save the trained model"
      ],
      "metadata": {
        "id": "OtaviPCQ9agZ"
      }
    },
    {
      "cell_type": "code",
      "source": [
        "# from google.colab import files\n",
        "# torch.save(model.state_dict(), 'checkpoint.pth')\n",
        "# # download checkpoint file\n",
        "# files.download('checkpoint.pth')\n",
        "# model.load_state_dict(torch.load('checkpoint.pth'))"
      ],
      "metadata": {
        "id": "BZ4-De6b9gzA"
      },
      "execution_count": null,
      "outputs": []
    },
    {
      "cell_type": "code",
      "source": [
        "# Selecting the best model\n",
        "best_acc = max(acc_hist_val)\n",
        "best_epoch = acc_hist_val.index(best_acc)+1\n",
        "\n",
        "print(\"Best accuracy on validation set: {:.2f}%\".format(best_acc*100))\n",
        "print(\"Best epoch: {}\".format(best_epoch))\n",
        "\n",
        "# Load the best model\n",
        "with open(f\"Models/MLP_model_{best_epoch}.pth\",\"rb\") as f:\n",
        "    model=pickle.load(f)"
      ],
      "metadata": {
        "colab": {
          "base_uri": "https://localhost:8080/"
        },
        "id": "dNA5HD-i9g2F",
        "outputId": "fc0ccd18-f5c7-4f6c-8f94-d0299c71fff9"
      },
      "execution_count": null,
      "outputs": [
        {
          "output_type": "stream",
          "name": "stdout",
          "text": [
            "Best accuracy on validation set: 97.28%\n",
            "Best epoch: 99\n"
          ]
        },
        {
          "output_type": "stream",
          "name": "stderr",
          "text": [
            "/usr/local/lib/python3.10/dist-packages/torch/storage.py:414: FutureWarning: You are using `torch.load` with `weights_only=False` (the current default value), which uses the default pickle module implicitly. It is possible to construct malicious pickle data which will execute arbitrary code during unpickling (See https://github.com/pytorch/pytorch/blob/main/SECURITY.md#untrusted-models for more details). In a future release, the default value for `weights_only` will be flipped to `True`. This limits the functions that could be executed during unpickling. Arbitrary objects will no longer be allowed to be loaded via this mode unless they are explicitly allowlisted by the user via `torch.serialization.add_safe_globals`. We recommend you start setting `weights_only=True` for any use case where you don't have full control of the loaded file. Please open an issue on GitHub for any issues related to this experimental feature.\n",
            "  return torch.load(io.BytesIO(b))\n"
          ]
        }
      ]
    },
    {
      "cell_type": "markdown",
      "source": [
        "##Test the Trained Network\n",
        "Finally, we test our best model on previously unseen test data and evaluate it's performance. Testing on unseen data is a good way to check that our model generalizes well. It may also be useful to be granular in this analysis and take a look at how this model performs on each class as well as looking at its overall loss and accuracy."
      ],
      "metadata": {
        "id": "7XnZSmmD90il"
      }
    },
    {
      "cell_type": "code",
      "source": [
        "pred_vec = []\n",
        "label_vec = []\n",
        "correct = 0\n",
        "test_loss = 0.0\n",
        "\n",
        "model.to(device)\n",
        "model.eval()\n",
        "\n",
        "with torch.no_grad():\n",
        "    for data in test_loader:\n",
        "        batch, labels = data\n",
        "        batch, labels = batch.to(device), labels.to(device)\n",
        "        outputs = model(batch)\n",
        "        test_loss = criterion(outputs, labels)\n",
        "        _, predicted = torch.max(outputs, 1)\n",
        "        correct += (predicted == labels).sum().item()\n",
        "        pred_vec.extend(predicted.cpu().numpy())  # Convert tensor to numpy array\n",
        "        label_vec.extend(labels.cpu().numpy())  # Convert tensor to numpy array\n",
        "\n",
        "pred_vec = np.array(pred_vec)\n",
        "label_vec = np.array(label_vec)\n",
        "\n",
        "print(\"Test Loss: {:.2f}\".format(test_loss))\n",
        "print('Test Accuracy on the 5000 test images: %.2f %%' % (100 * correct / len(test_set)))"
      ],
      "metadata": {
        "colab": {
          "base_uri": "https://localhost:8080/"
        },
        "id": "g7XEzCTc9g5N",
        "outputId": "9e48b8ad-a074-4e6f-f517-f65371e5fcbd"
      },
      "execution_count": null,
      "outputs": [
        {
          "output_type": "stream",
          "name": "stdout",
          "text": [
            "Test Loss: 0.09\n",
            "Test Accuracy on the 5000 test images: 96.98 %\n"
          ]
        }
      ]
    },
    {
      "cell_type": "markdown",
      "source": [
        "# Display the Confusion Matrix"
      ],
      "metadata": {
        "id": "VqTBd9qLbijk"
      }
    },
    {
      "cell_type": "code",
      "source": [
        "# Create confusion matrix\n",
        "from sklearn.metrics import confusion_matrix\n",
        "confusion_mat = confusion_matrix(label_vec, pred_vec)\n",
        "# Convert confusion matrix to pandas DataFrame\n",
        "labels = np.unique(label_vec)\n",
        "confusion_df = pd.DataFrame(confusion_mat, index=classes, columns=classes)\n",
        "print(\"Confusion Matrix\")\n",
        "confusion_df"
      ],
      "metadata": {
        "colab": {
          "base_uri": "https://localhost:8080/"
        },
        "id": "LmXCOiQ39g8V",
        "outputId": "8f68c1b1-7969-43ab-9228-1016ef6b51ef"
      },
      "execution_count": null,
      "outputs": [
        {
          "output_type": "stream",
          "name": "stdout",
          "text": [
            "Confusion Matrix\n"
          ]
        },
        {
          "output_type": "execute_result",
          "data": {
            "text/plain": [
              "     0    1    2    3    4    5    6    7    8    9\n",
              "0  525    0    0    0    0    3    3    1    1    0\n",
              "1    0  569    2    0    0    0    1    1    1    0\n",
              "2    4    2  499    2    0    0    2    6    3    0\n",
              "3    1    0    1  492    0    2    0    0    2    1\n",
              "4    0    0    1    0  455    0    2    2    1    8\n",
              "5    3    1    0    5    0  447    2    1    3    3\n",
              "6    5    3    1    0    3    3  470    1    0    0\n",
              "7    0    6    4    1    1    1    0  488    0    3\n",
              "8    5    0    1    4    1    4    3    2  469    3\n",
              "9    3    5    1    5    7    1    0    3    0  435"
            ],
            "text/html": [
              "\n",
              "  <div id=\"df-2a76471f-12cd-4348-9742-a469be219c29\" class=\"colab-df-container\">\n",
              "    <div>\n",
              "<style scoped>\n",
              "    .dataframe tbody tr th:only-of-type {\n",
              "        vertical-align: middle;\n",
              "    }\n",
              "\n",
              "    .dataframe tbody tr th {\n",
              "        vertical-align: top;\n",
              "    }\n",
              "\n",
              "    .dataframe thead th {\n",
              "        text-align: right;\n",
              "    }\n",
              "</style>\n",
              "<table border=\"1\" class=\"dataframe\">\n",
              "  <thead>\n",
              "    <tr style=\"text-align: right;\">\n",
              "      <th></th>\n",
              "      <th>0</th>\n",
              "      <th>1</th>\n",
              "      <th>2</th>\n",
              "      <th>3</th>\n",
              "      <th>4</th>\n",
              "      <th>5</th>\n",
              "      <th>6</th>\n",
              "      <th>7</th>\n",
              "      <th>8</th>\n",
              "      <th>9</th>\n",
              "    </tr>\n",
              "  </thead>\n",
              "  <tbody>\n",
              "    <tr>\n",
              "      <th>0</th>\n",
              "      <td>525</td>\n",
              "      <td>0</td>\n",
              "      <td>0</td>\n",
              "      <td>0</td>\n",
              "      <td>0</td>\n",
              "      <td>3</td>\n",
              "      <td>3</td>\n",
              "      <td>1</td>\n",
              "      <td>1</td>\n",
              "      <td>0</td>\n",
              "    </tr>\n",
              "    <tr>\n",
              "      <th>1</th>\n",
              "      <td>0</td>\n",
              "      <td>569</td>\n",
              "      <td>2</td>\n",
              "      <td>0</td>\n",
              "      <td>0</td>\n",
              "      <td>0</td>\n",
              "      <td>1</td>\n",
              "      <td>1</td>\n",
              "      <td>1</td>\n",
              "      <td>0</td>\n",
              "    </tr>\n",
              "    <tr>\n",
              "      <th>2</th>\n",
              "      <td>4</td>\n",
              "      <td>2</td>\n",
              "      <td>499</td>\n",
              "      <td>2</td>\n",
              "      <td>0</td>\n",
              "      <td>0</td>\n",
              "      <td>2</td>\n",
              "      <td>6</td>\n",
              "      <td>3</td>\n",
              "      <td>0</td>\n",
              "    </tr>\n",
              "    <tr>\n",
              "      <th>3</th>\n",
              "      <td>1</td>\n",
              "      <td>0</td>\n",
              "      <td>1</td>\n",
              "      <td>492</td>\n",
              "      <td>0</td>\n",
              "      <td>2</td>\n",
              "      <td>0</td>\n",
              "      <td>0</td>\n",
              "      <td>2</td>\n",
              "      <td>1</td>\n",
              "    </tr>\n",
              "    <tr>\n",
              "      <th>4</th>\n",
              "      <td>0</td>\n",
              "      <td>0</td>\n",
              "      <td>1</td>\n",
              "      <td>0</td>\n",
              "      <td>455</td>\n",
              "      <td>0</td>\n",
              "      <td>2</td>\n",
              "      <td>2</td>\n",
              "      <td>1</td>\n",
              "      <td>8</td>\n",
              "    </tr>\n",
              "    <tr>\n",
              "      <th>5</th>\n",
              "      <td>3</td>\n",
              "      <td>1</td>\n",
              "      <td>0</td>\n",
              "      <td>5</td>\n",
              "      <td>0</td>\n",
              "      <td>447</td>\n",
              "      <td>2</td>\n",
              "      <td>1</td>\n",
              "      <td>3</td>\n",
              "      <td>3</td>\n",
              "    </tr>\n",
              "    <tr>\n",
              "      <th>6</th>\n",
              "      <td>5</td>\n",
              "      <td>3</td>\n",
              "      <td>1</td>\n",
              "      <td>0</td>\n",
              "      <td>3</td>\n",
              "      <td>3</td>\n",
              "      <td>470</td>\n",
              "      <td>1</td>\n",
              "      <td>0</td>\n",
              "      <td>0</td>\n",
              "    </tr>\n",
              "    <tr>\n",
              "      <th>7</th>\n",
              "      <td>0</td>\n",
              "      <td>6</td>\n",
              "      <td>4</td>\n",
              "      <td>1</td>\n",
              "      <td>1</td>\n",
              "      <td>1</td>\n",
              "      <td>0</td>\n",
              "      <td>488</td>\n",
              "      <td>0</td>\n",
              "      <td>3</td>\n",
              "    </tr>\n",
              "    <tr>\n",
              "      <th>8</th>\n",
              "      <td>5</td>\n",
              "      <td>0</td>\n",
              "      <td>1</td>\n",
              "      <td>4</td>\n",
              "      <td>1</td>\n",
              "      <td>4</td>\n",
              "      <td>3</td>\n",
              "      <td>2</td>\n",
              "      <td>469</td>\n",
              "      <td>3</td>\n",
              "    </tr>\n",
              "    <tr>\n",
              "      <th>9</th>\n",
              "      <td>3</td>\n",
              "      <td>5</td>\n",
              "      <td>1</td>\n",
              "      <td>5</td>\n",
              "      <td>7</td>\n",
              "      <td>1</td>\n",
              "      <td>0</td>\n",
              "      <td>3</td>\n",
              "      <td>0</td>\n",
              "      <td>435</td>\n",
              "    </tr>\n",
              "  </tbody>\n",
              "</table>\n",
              "</div>\n",
              "    <div class=\"colab-df-buttons\">\n",
              "\n",
              "  <div class=\"colab-df-container\">\n",
              "    <button class=\"colab-df-convert\" onclick=\"convertToInteractive('df-2a76471f-12cd-4348-9742-a469be219c29')\"\n",
              "            title=\"Convert this dataframe to an interactive table.\"\n",
              "            style=\"display:none;\">\n",
              "\n",
              "  <svg xmlns=\"http://www.w3.org/2000/svg\" height=\"24px\" viewBox=\"0 -960 960 960\">\n",
              "    <path d=\"M120-120v-720h720v720H120Zm60-500h600v-160H180v160Zm220 220h160v-160H400v160Zm0 220h160v-160H400v160ZM180-400h160v-160H180v160Zm440 0h160v-160H620v160ZM180-180h160v-160H180v160Zm440 0h160v-160H620v160Z\"/>\n",
              "  </svg>\n",
              "    </button>\n",
              "\n",
              "  <style>\n",
              "    .colab-df-container {\n",
              "      display:flex;\n",
              "      gap: 12px;\n",
              "    }\n",
              "\n",
              "    .colab-df-convert {\n",
              "      background-color: #E8F0FE;\n",
              "      border: none;\n",
              "      border-radius: 50%;\n",
              "      cursor: pointer;\n",
              "      display: none;\n",
              "      fill: #1967D2;\n",
              "      height: 32px;\n",
              "      padding: 0 0 0 0;\n",
              "      width: 32px;\n",
              "    }\n",
              "\n",
              "    .colab-df-convert:hover {\n",
              "      background-color: #E2EBFA;\n",
              "      box-shadow: 0px 1px 2px rgba(60, 64, 67, 0.3), 0px 1px 3px 1px rgba(60, 64, 67, 0.15);\n",
              "      fill: #174EA6;\n",
              "    }\n",
              "\n",
              "    .colab-df-buttons div {\n",
              "      margin-bottom: 4px;\n",
              "    }\n",
              "\n",
              "    [theme=dark] .colab-df-convert {\n",
              "      background-color: #3B4455;\n",
              "      fill: #D2E3FC;\n",
              "    }\n",
              "\n",
              "    [theme=dark] .colab-df-convert:hover {\n",
              "      background-color: #434B5C;\n",
              "      box-shadow: 0px 1px 3px 1px rgba(0, 0, 0, 0.15);\n",
              "      filter: drop-shadow(0px 1px 2px rgba(0, 0, 0, 0.3));\n",
              "      fill: #FFFFFF;\n",
              "    }\n",
              "  </style>\n",
              "\n",
              "    <script>\n",
              "      const buttonEl =\n",
              "        document.querySelector('#df-2a76471f-12cd-4348-9742-a469be219c29 button.colab-df-convert');\n",
              "      buttonEl.style.display =\n",
              "        google.colab.kernel.accessAllowed ? 'block' : 'none';\n",
              "\n",
              "      async function convertToInteractive(key) {\n",
              "        const element = document.querySelector('#df-2a76471f-12cd-4348-9742-a469be219c29');\n",
              "        const dataTable =\n",
              "          await google.colab.kernel.invokeFunction('convertToInteractive',\n",
              "                                                    [key], {});\n",
              "        if (!dataTable) return;\n",
              "\n",
              "        const docLinkHtml = 'Like what you see? Visit the ' +\n",
              "          '<a target=\"_blank\" href=https://colab.research.google.com/notebooks/data_table.ipynb>data table notebook</a>'\n",
              "          + ' to learn more about interactive tables.';\n",
              "        element.innerHTML = '';\n",
              "        dataTable['output_type'] = 'display_data';\n",
              "        await google.colab.output.renderOutput(dataTable, element);\n",
              "        const docLink = document.createElement('div');\n",
              "        docLink.innerHTML = docLinkHtml;\n",
              "        element.appendChild(docLink);\n",
              "      }\n",
              "    </script>\n",
              "  </div>\n",
              "\n",
              "\n",
              "<div id=\"df-d4069365-74d3-4e17-9562-107ebae01f28\">\n",
              "  <button class=\"colab-df-quickchart\" onclick=\"quickchart('df-d4069365-74d3-4e17-9562-107ebae01f28')\"\n",
              "            title=\"Suggest charts\"\n",
              "            style=\"display:none;\">\n",
              "\n",
              "<svg xmlns=\"http://www.w3.org/2000/svg\" height=\"24px\"viewBox=\"0 0 24 24\"\n",
              "     width=\"24px\">\n",
              "    <g>\n",
              "        <path d=\"M19 3H5c-1.1 0-2 .9-2 2v14c0 1.1.9 2 2 2h14c1.1 0 2-.9 2-2V5c0-1.1-.9-2-2-2zM9 17H7v-7h2v7zm4 0h-2V7h2v10zm4 0h-2v-4h2v4z\"/>\n",
              "    </g>\n",
              "</svg>\n",
              "  </button>\n",
              "\n",
              "<style>\n",
              "  .colab-df-quickchart {\n",
              "      --bg-color: #E8F0FE;\n",
              "      --fill-color: #1967D2;\n",
              "      --hover-bg-color: #E2EBFA;\n",
              "      --hover-fill-color: #174EA6;\n",
              "      --disabled-fill-color: #AAA;\n",
              "      --disabled-bg-color: #DDD;\n",
              "  }\n",
              "\n",
              "  [theme=dark] .colab-df-quickchart {\n",
              "      --bg-color: #3B4455;\n",
              "      --fill-color: #D2E3FC;\n",
              "      --hover-bg-color: #434B5C;\n",
              "      --hover-fill-color: #FFFFFF;\n",
              "      --disabled-bg-color: #3B4455;\n",
              "      --disabled-fill-color: #666;\n",
              "  }\n",
              "\n",
              "  .colab-df-quickchart {\n",
              "    background-color: var(--bg-color);\n",
              "    border: none;\n",
              "    border-radius: 50%;\n",
              "    cursor: pointer;\n",
              "    display: none;\n",
              "    fill: var(--fill-color);\n",
              "    height: 32px;\n",
              "    padding: 0;\n",
              "    width: 32px;\n",
              "  }\n",
              "\n",
              "  .colab-df-quickchart:hover {\n",
              "    background-color: var(--hover-bg-color);\n",
              "    box-shadow: 0 1px 2px rgba(60, 64, 67, 0.3), 0 1px 3px 1px rgba(60, 64, 67, 0.15);\n",
              "    fill: var(--button-hover-fill-color);\n",
              "  }\n",
              "\n",
              "  .colab-df-quickchart-complete:disabled,\n",
              "  .colab-df-quickchart-complete:disabled:hover {\n",
              "    background-color: var(--disabled-bg-color);\n",
              "    fill: var(--disabled-fill-color);\n",
              "    box-shadow: none;\n",
              "  }\n",
              "\n",
              "  .colab-df-spinner {\n",
              "    border: 2px solid var(--fill-color);\n",
              "    border-color: transparent;\n",
              "    border-bottom-color: var(--fill-color);\n",
              "    animation:\n",
              "      spin 1s steps(1) infinite;\n",
              "  }\n",
              "\n",
              "  @keyframes spin {\n",
              "    0% {\n",
              "      border-color: transparent;\n",
              "      border-bottom-color: var(--fill-color);\n",
              "      border-left-color: var(--fill-color);\n",
              "    }\n",
              "    20% {\n",
              "      border-color: transparent;\n",
              "      border-left-color: var(--fill-color);\n",
              "      border-top-color: var(--fill-color);\n",
              "    }\n",
              "    30% {\n",
              "      border-color: transparent;\n",
              "      border-left-color: var(--fill-color);\n",
              "      border-top-color: var(--fill-color);\n",
              "      border-right-color: var(--fill-color);\n",
              "    }\n",
              "    40% {\n",
              "      border-color: transparent;\n",
              "      border-right-color: var(--fill-color);\n",
              "      border-top-color: var(--fill-color);\n",
              "    }\n",
              "    60% {\n",
              "      border-color: transparent;\n",
              "      border-right-color: var(--fill-color);\n",
              "    }\n",
              "    80% {\n",
              "      border-color: transparent;\n",
              "      border-right-color: var(--fill-color);\n",
              "      border-bottom-color: var(--fill-color);\n",
              "    }\n",
              "    90% {\n",
              "      border-color: transparent;\n",
              "      border-bottom-color: var(--fill-color);\n",
              "    }\n",
              "  }\n",
              "</style>\n",
              "\n",
              "  <script>\n",
              "    async function quickchart(key) {\n",
              "      const quickchartButtonEl =\n",
              "        document.querySelector('#' + key + ' button');\n",
              "      quickchartButtonEl.disabled = true;  // To prevent multiple clicks.\n",
              "      quickchartButtonEl.classList.add('colab-df-spinner');\n",
              "      try {\n",
              "        const charts = await google.colab.kernel.invokeFunction(\n",
              "            'suggestCharts', [key], {});\n",
              "      } catch (error) {\n",
              "        console.error('Error during call to suggestCharts:', error);\n",
              "      }\n",
              "      quickchartButtonEl.classList.remove('colab-df-spinner');\n",
              "      quickchartButtonEl.classList.add('colab-df-quickchart-complete');\n",
              "    }\n",
              "    (() => {\n",
              "      let quickchartButtonEl =\n",
              "        document.querySelector('#df-d4069365-74d3-4e17-9562-107ebae01f28 button');\n",
              "      quickchartButtonEl.style.display =\n",
              "        google.colab.kernel.accessAllowed ? 'block' : 'none';\n",
              "    })();\n",
              "  </script>\n",
              "</div>\n",
              "    </div>\n",
              "  </div>\n"
            ],
            "application/vnd.google.colaboratory.intrinsic+json": {
              "type": "dataframe",
              "variable_name": "confusion_df",
              "summary": "{\n  \"name\": \"confusion_df\",\n  \"rows\": 10,\n  \"fields\": [\n    {\n      \"column\": \"0\",\n      \"properties\": {\n        \"dtype\": \"number\",\n        \"std\": 165,\n        \"min\": 0,\n        \"max\": 525,\n        \"num_unique_values\": 6,\n        \"samples\": [\n          525,\n          0,\n          5\n        ],\n        \"semantic_type\": \"\",\n        \"description\": \"\"\n      }\n    },\n    {\n      \"column\": \"1\",\n      \"properties\": {\n        \"dtype\": \"number\",\n        \"std\": 179,\n        \"min\": 0,\n        \"max\": 569,\n        \"num_unique_values\": 7,\n        \"samples\": [\n          0,\n          569,\n          6\n        ],\n        \"semantic_type\": \"\",\n        \"description\": \"\"\n      }\n    },\n    {\n      \"column\": \"2\",\n      \"properties\": {\n        \"dtype\": \"number\",\n        \"std\": 157,\n        \"min\": 0,\n        \"max\": 499,\n        \"num_unique_values\": 5,\n        \"samples\": [\n          2,\n          4,\n          499\n        ],\n        \"semantic_type\": \"\",\n        \"description\": \"\"\n      }\n    },\n    {\n      \"column\": \"3\",\n      \"properties\": {\n        \"dtype\": \"number\",\n        \"std\": 155,\n        \"min\": 0,\n        \"max\": 492,\n        \"num_unique_values\": 6,\n        \"samples\": [\n          0,\n          2,\n          4\n        ],\n        \"semantic_type\": \"\",\n        \"description\": \"\"\n      }\n    },\n    {\n      \"column\": \"4\",\n      \"properties\": {\n        \"dtype\": \"number\",\n        \"std\": 143,\n        \"min\": 0,\n        \"max\": 455,\n        \"num_unique_values\": 5,\n        \"samples\": [\n          455,\n          7,\n          3\n        ],\n        \"semantic_type\": \"\",\n        \"description\": \"\"\n      }\n    },\n    {\n      \"column\": \"5\",\n      \"properties\": {\n        \"dtype\": \"number\",\n        \"std\": 140,\n        \"min\": 0,\n        \"max\": 447,\n        \"num_unique_values\": 6,\n        \"samples\": [\n          3,\n          0,\n          4\n        ],\n        \"semantic_type\": \"\",\n        \"description\": \"\"\n      }\n    },\n    {\n      \"column\": \"6\",\n      \"properties\": {\n        \"dtype\": \"number\",\n        \"std\": 148,\n        \"min\": 0,\n        \"max\": 470,\n        \"num_unique_values\": 5,\n        \"samples\": [\n          1,\n          470,\n          2\n        ],\n        \"semantic_type\": \"\",\n        \"description\": \"\"\n      }\n    },\n    {\n      \"column\": \"7\",\n      \"properties\": {\n        \"dtype\": \"number\",\n        \"std\": 153,\n        \"min\": 0,\n        \"max\": 488,\n        \"num_unique_values\": 6,\n        \"samples\": [\n          1,\n          6,\n          3\n        ],\n        \"semantic_type\": \"\",\n        \"description\": \"\"\n      }\n    },\n    {\n      \"column\": \"8\",\n      \"properties\": {\n        \"dtype\": \"number\",\n        \"std\": 147,\n        \"min\": 0,\n        \"max\": 469,\n        \"num_unique_values\": 5,\n        \"samples\": [\n          3,\n          469,\n          2\n        ],\n        \"semantic_type\": \"\",\n        \"description\": \"\"\n      }\n    },\n    {\n      \"column\": \"9\",\n      \"properties\": {\n        \"dtype\": \"number\",\n        \"std\": 136,\n        \"min\": 0,\n        \"max\": 435,\n        \"num_unique_values\": 5,\n        \"samples\": [\n          1,\n          435,\n          8\n        ],\n        \"semantic_type\": \"\",\n        \"description\": \"\"\n      }\n    }\n  ]\n}"
            }
          },
          "metadata": {},
          "execution_count": 18
        }
      ]
    },
    {
      "cell_type": "markdown",
      "source": [
        "# Compute the Accuracy, F1-Score, Precision, Recall, Support"
      ],
      "metadata": {
        "id": "wXEdwvqu-CQs"
      }
    },
    {
      "cell_type": "code",
      "source": [
        "# Create a report to show the f1-score, precision, recall\n",
        "from sklearn.metrics import classification_report\n",
        "\n",
        "report = pd.DataFrame.from_dict(classification_report(pred_vec,label_vec,output_dict=True)).T\n",
        "report['Label']=[classes[int(x)] if x.isdigit() else \" \" for x in report.index]\n",
        "report=report[['Label','f1-score','precision','recall','support']]\n",
        "report"
      ],
      "metadata": {
        "colab": {
          "base_uri": "https://localhost:8080/"
        },
        "id": "_U_bMMSj9g_-",
        "outputId": "f3fcac2e-9659-40bf-c14c-006006f9ade4"
      },
      "execution_count": null,
      "outputs": [
        {
          "output_type": "execute_result",
          "data": {
            "text/plain": [
              "             Label  f1-score  precision    recall    support\n",
              "0                0  0.973123   0.984991  0.961538   546.0000\n",
              "1                1  0.981034   0.991289  0.970990   586.0000\n",
              "2                2  0.970817   0.963320  0.978431   510.0000\n",
              "3                3  0.976190   0.985972  0.966601   509.0000\n",
              "4                4  0.972222   0.970149  0.974304   467.0000\n",
              "5                5  0.965443   0.961290  0.969631   461.0000\n",
              "6                6  0.970072   0.967078  0.973085   483.0000\n",
              "7                7  0.967294   0.968254  0.966337   505.0000\n",
              "8                8  0.965021   0.953252  0.977083   480.0000\n",
              "9                9  0.952903   0.945652  0.960265   453.0000\n",
              "accuracy            0.969800   0.969800  0.969800     0.9698\n",
              "macro avg           0.969412   0.969125  0.969827  5000.0000\n",
              "weighted avg        0.969842   0.970015  0.969800  5000.0000"
            ],
            "text/html": [
              "\n",
              "  <div id=\"df-3e99fcaf-2564-46c6-8b95-aa07ff6ac962\" class=\"colab-df-container\">\n",
              "    <div>\n",
              "<style scoped>\n",
              "    .dataframe tbody tr th:only-of-type {\n",
              "        vertical-align: middle;\n",
              "    }\n",
              "\n",
              "    .dataframe tbody tr th {\n",
              "        vertical-align: top;\n",
              "    }\n",
              "\n",
              "    .dataframe thead th {\n",
              "        text-align: right;\n",
              "    }\n",
              "</style>\n",
              "<table border=\"1\" class=\"dataframe\">\n",
              "  <thead>\n",
              "    <tr style=\"text-align: right;\">\n",
              "      <th></th>\n",
              "      <th>Label</th>\n",
              "      <th>f1-score</th>\n",
              "      <th>precision</th>\n",
              "      <th>recall</th>\n",
              "      <th>support</th>\n",
              "    </tr>\n",
              "  </thead>\n",
              "  <tbody>\n",
              "    <tr>\n",
              "      <th>0</th>\n",
              "      <td>0</td>\n",
              "      <td>0.973123</td>\n",
              "      <td>0.984991</td>\n",
              "      <td>0.961538</td>\n",
              "      <td>546.0000</td>\n",
              "    </tr>\n",
              "    <tr>\n",
              "      <th>1</th>\n",
              "      <td>1</td>\n",
              "      <td>0.981034</td>\n",
              "      <td>0.991289</td>\n",
              "      <td>0.970990</td>\n",
              "      <td>586.0000</td>\n",
              "    </tr>\n",
              "    <tr>\n",
              "      <th>2</th>\n",
              "      <td>2</td>\n",
              "      <td>0.970817</td>\n",
              "      <td>0.963320</td>\n",
              "      <td>0.978431</td>\n",
              "      <td>510.0000</td>\n",
              "    </tr>\n",
              "    <tr>\n",
              "      <th>3</th>\n",
              "      <td>3</td>\n",
              "      <td>0.976190</td>\n",
              "      <td>0.985972</td>\n",
              "      <td>0.966601</td>\n",
              "      <td>509.0000</td>\n",
              "    </tr>\n",
              "    <tr>\n",
              "      <th>4</th>\n",
              "      <td>4</td>\n",
              "      <td>0.972222</td>\n",
              "      <td>0.970149</td>\n",
              "      <td>0.974304</td>\n",
              "      <td>467.0000</td>\n",
              "    </tr>\n",
              "    <tr>\n",
              "      <th>5</th>\n",
              "      <td>5</td>\n",
              "      <td>0.965443</td>\n",
              "      <td>0.961290</td>\n",
              "      <td>0.969631</td>\n",
              "      <td>461.0000</td>\n",
              "    </tr>\n",
              "    <tr>\n",
              "      <th>6</th>\n",
              "      <td>6</td>\n",
              "      <td>0.970072</td>\n",
              "      <td>0.967078</td>\n",
              "      <td>0.973085</td>\n",
              "      <td>483.0000</td>\n",
              "    </tr>\n",
              "    <tr>\n",
              "      <th>7</th>\n",
              "      <td>7</td>\n",
              "      <td>0.967294</td>\n",
              "      <td>0.968254</td>\n",
              "      <td>0.966337</td>\n",
              "      <td>505.0000</td>\n",
              "    </tr>\n",
              "    <tr>\n",
              "      <th>8</th>\n",
              "      <td>8</td>\n",
              "      <td>0.965021</td>\n",
              "      <td>0.953252</td>\n",
              "      <td>0.977083</td>\n",
              "      <td>480.0000</td>\n",
              "    </tr>\n",
              "    <tr>\n",
              "      <th>9</th>\n",
              "      <td>9</td>\n",
              "      <td>0.952903</td>\n",
              "      <td>0.945652</td>\n",
              "      <td>0.960265</td>\n",
              "      <td>453.0000</td>\n",
              "    </tr>\n",
              "    <tr>\n",
              "      <th>accuracy</th>\n",
              "      <td></td>\n",
              "      <td>0.969800</td>\n",
              "      <td>0.969800</td>\n",
              "      <td>0.969800</td>\n",
              "      <td>0.9698</td>\n",
              "    </tr>\n",
              "    <tr>\n",
              "      <th>macro avg</th>\n",
              "      <td></td>\n",
              "      <td>0.969412</td>\n",
              "      <td>0.969125</td>\n",
              "      <td>0.969827</td>\n",
              "      <td>5000.0000</td>\n",
              "    </tr>\n",
              "    <tr>\n",
              "      <th>weighted avg</th>\n",
              "      <td></td>\n",
              "      <td>0.969842</td>\n",
              "      <td>0.970015</td>\n",
              "      <td>0.969800</td>\n",
              "      <td>5000.0000</td>\n",
              "    </tr>\n",
              "  </tbody>\n",
              "</table>\n",
              "</div>\n",
              "    <div class=\"colab-df-buttons\">\n",
              "\n",
              "  <div class=\"colab-df-container\">\n",
              "    <button class=\"colab-df-convert\" onclick=\"convertToInteractive('df-3e99fcaf-2564-46c6-8b95-aa07ff6ac962')\"\n",
              "            title=\"Convert this dataframe to an interactive table.\"\n",
              "            style=\"display:none;\">\n",
              "\n",
              "  <svg xmlns=\"http://www.w3.org/2000/svg\" height=\"24px\" viewBox=\"0 -960 960 960\">\n",
              "    <path d=\"M120-120v-720h720v720H120Zm60-500h600v-160H180v160Zm220 220h160v-160H400v160Zm0 220h160v-160H400v160ZM180-400h160v-160H180v160Zm440 0h160v-160H620v160ZM180-180h160v-160H180v160Zm440 0h160v-160H620v160Z\"/>\n",
              "  </svg>\n",
              "    </button>\n",
              "\n",
              "  <style>\n",
              "    .colab-df-container {\n",
              "      display:flex;\n",
              "      gap: 12px;\n",
              "    }\n",
              "\n",
              "    .colab-df-convert {\n",
              "      background-color: #E8F0FE;\n",
              "      border: none;\n",
              "      border-radius: 50%;\n",
              "      cursor: pointer;\n",
              "      display: none;\n",
              "      fill: #1967D2;\n",
              "      height: 32px;\n",
              "      padding: 0 0 0 0;\n",
              "      width: 32px;\n",
              "    }\n",
              "\n",
              "    .colab-df-convert:hover {\n",
              "      background-color: #E2EBFA;\n",
              "      box-shadow: 0px 1px 2px rgba(60, 64, 67, 0.3), 0px 1px 3px 1px rgba(60, 64, 67, 0.15);\n",
              "      fill: #174EA6;\n",
              "    }\n",
              "\n",
              "    .colab-df-buttons div {\n",
              "      margin-bottom: 4px;\n",
              "    }\n",
              "\n",
              "    [theme=dark] .colab-df-convert {\n",
              "      background-color: #3B4455;\n",
              "      fill: #D2E3FC;\n",
              "    }\n",
              "\n",
              "    [theme=dark] .colab-df-convert:hover {\n",
              "      background-color: #434B5C;\n",
              "      box-shadow: 0px 1px 3px 1px rgba(0, 0, 0, 0.15);\n",
              "      filter: drop-shadow(0px 1px 2px rgba(0, 0, 0, 0.3));\n",
              "      fill: #FFFFFF;\n",
              "    }\n",
              "  </style>\n",
              "\n",
              "    <script>\n",
              "      const buttonEl =\n",
              "        document.querySelector('#df-3e99fcaf-2564-46c6-8b95-aa07ff6ac962 button.colab-df-convert');\n",
              "      buttonEl.style.display =\n",
              "        google.colab.kernel.accessAllowed ? 'block' : 'none';\n",
              "\n",
              "      async function convertToInteractive(key) {\n",
              "        const element = document.querySelector('#df-3e99fcaf-2564-46c6-8b95-aa07ff6ac962');\n",
              "        const dataTable =\n",
              "          await google.colab.kernel.invokeFunction('convertToInteractive',\n",
              "                                                    [key], {});\n",
              "        if (!dataTable) return;\n",
              "\n",
              "        const docLinkHtml = 'Like what you see? Visit the ' +\n",
              "          '<a target=\"_blank\" href=https://colab.research.google.com/notebooks/data_table.ipynb>data table notebook</a>'\n",
              "          + ' to learn more about interactive tables.';\n",
              "        element.innerHTML = '';\n",
              "        dataTable['output_type'] = 'display_data';\n",
              "        await google.colab.output.renderOutput(dataTable, element);\n",
              "        const docLink = document.createElement('div');\n",
              "        docLink.innerHTML = docLinkHtml;\n",
              "        element.appendChild(docLink);\n",
              "      }\n",
              "    </script>\n",
              "  </div>\n",
              "\n",
              "\n",
              "<div id=\"df-1a0faf29-26d9-441a-a08f-d787667b9c44\">\n",
              "  <button class=\"colab-df-quickchart\" onclick=\"quickchart('df-1a0faf29-26d9-441a-a08f-d787667b9c44')\"\n",
              "            title=\"Suggest charts\"\n",
              "            style=\"display:none;\">\n",
              "\n",
              "<svg xmlns=\"http://www.w3.org/2000/svg\" height=\"24px\"viewBox=\"0 0 24 24\"\n",
              "     width=\"24px\">\n",
              "    <g>\n",
              "        <path d=\"M19 3H5c-1.1 0-2 .9-2 2v14c0 1.1.9 2 2 2h14c1.1 0 2-.9 2-2V5c0-1.1-.9-2-2-2zM9 17H7v-7h2v7zm4 0h-2V7h2v10zm4 0h-2v-4h2v4z\"/>\n",
              "    </g>\n",
              "</svg>\n",
              "  </button>\n",
              "\n",
              "<style>\n",
              "  .colab-df-quickchart {\n",
              "      --bg-color: #E8F0FE;\n",
              "      --fill-color: #1967D2;\n",
              "      --hover-bg-color: #E2EBFA;\n",
              "      --hover-fill-color: #174EA6;\n",
              "      --disabled-fill-color: #AAA;\n",
              "      --disabled-bg-color: #DDD;\n",
              "  }\n",
              "\n",
              "  [theme=dark] .colab-df-quickchart {\n",
              "      --bg-color: #3B4455;\n",
              "      --fill-color: #D2E3FC;\n",
              "      --hover-bg-color: #434B5C;\n",
              "      --hover-fill-color: #FFFFFF;\n",
              "      --disabled-bg-color: #3B4455;\n",
              "      --disabled-fill-color: #666;\n",
              "  }\n",
              "\n",
              "  .colab-df-quickchart {\n",
              "    background-color: var(--bg-color);\n",
              "    border: none;\n",
              "    border-radius: 50%;\n",
              "    cursor: pointer;\n",
              "    display: none;\n",
              "    fill: var(--fill-color);\n",
              "    height: 32px;\n",
              "    padding: 0;\n",
              "    width: 32px;\n",
              "  }\n",
              "\n",
              "  .colab-df-quickchart:hover {\n",
              "    background-color: var(--hover-bg-color);\n",
              "    box-shadow: 0 1px 2px rgba(60, 64, 67, 0.3), 0 1px 3px 1px rgba(60, 64, 67, 0.15);\n",
              "    fill: var(--button-hover-fill-color);\n",
              "  }\n",
              "\n",
              "  .colab-df-quickchart-complete:disabled,\n",
              "  .colab-df-quickchart-complete:disabled:hover {\n",
              "    background-color: var(--disabled-bg-color);\n",
              "    fill: var(--disabled-fill-color);\n",
              "    box-shadow: none;\n",
              "  }\n",
              "\n",
              "  .colab-df-spinner {\n",
              "    border: 2px solid var(--fill-color);\n",
              "    border-color: transparent;\n",
              "    border-bottom-color: var(--fill-color);\n",
              "    animation:\n",
              "      spin 1s steps(1) infinite;\n",
              "  }\n",
              "\n",
              "  @keyframes spin {\n",
              "    0% {\n",
              "      border-color: transparent;\n",
              "      border-bottom-color: var(--fill-color);\n",
              "      border-left-color: var(--fill-color);\n",
              "    }\n",
              "    20% {\n",
              "      border-color: transparent;\n",
              "      border-left-color: var(--fill-color);\n",
              "      border-top-color: var(--fill-color);\n",
              "    }\n",
              "    30% {\n",
              "      border-color: transparent;\n",
              "      border-left-color: var(--fill-color);\n",
              "      border-top-color: var(--fill-color);\n",
              "      border-right-color: var(--fill-color);\n",
              "    }\n",
              "    40% {\n",
              "      border-color: transparent;\n",
              "      border-right-color: var(--fill-color);\n",
              "      border-top-color: var(--fill-color);\n",
              "    }\n",
              "    60% {\n",
              "      border-color: transparent;\n",
              "      border-right-color: var(--fill-color);\n",
              "    }\n",
              "    80% {\n",
              "      border-color: transparent;\n",
              "      border-right-color: var(--fill-color);\n",
              "      border-bottom-color: var(--fill-color);\n",
              "    }\n",
              "    90% {\n",
              "      border-color: transparent;\n",
              "      border-bottom-color: var(--fill-color);\n",
              "    }\n",
              "  }\n",
              "</style>\n",
              "\n",
              "  <script>\n",
              "    async function quickchart(key) {\n",
              "      const quickchartButtonEl =\n",
              "        document.querySelector('#' + key + ' button');\n",
              "      quickchartButtonEl.disabled = true;  // To prevent multiple clicks.\n",
              "      quickchartButtonEl.classList.add('colab-df-spinner');\n",
              "      try {\n",
              "        const charts = await google.colab.kernel.invokeFunction(\n",
              "            'suggestCharts', [key], {});\n",
              "      } catch (error) {\n",
              "        console.error('Error during call to suggestCharts:', error);\n",
              "      }\n",
              "      quickchartButtonEl.classList.remove('colab-df-spinner');\n",
              "      quickchartButtonEl.classList.add('colab-df-quickchart-complete');\n",
              "    }\n",
              "    (() => {\n",
              "      let quickchartButtonEl =\n",
              "        document.querySelector('#df-1a0faf29-26d9-441a-a08f-d787667b9c44 button');\n",
              "      quickchartButtonEl.style.display =\n",
              "        google.colab.kernel.accessAllowed ? 'block' : 'none';\n",
              "    })();\n",
              "  </script>\n",
              "</div>\n",
              "    </div>\n",
              "  </div>\n"
            ],
            "application/vnd.google.colaboratory.intrinsic+json": {
              "type": "dataframe",
              "variable_name": "report",
              "summary": "{\n  \"name\": \"report\",\n  \"rows\": 13,\n  \"fields\": [\n    {\n      \"column\": \"Label\",\n      \"properties\": {\n        \"dtype\": \"string\",\n        \"num_unique_values\": 11,\n        \"samples\": [\n          \"5\",\n          \"0\",\n          \"9\"\n        ],\n        \"semantic_type\": \"\",\n        \"description\": \"\"\n      }\n    },\n    {\n      \"column\": \"f1-score\",\n      \"properties\": {\n        \"dtype\": \"number\",\n        \"std\": 0.006566846303946544,\n        \"min\": 0.9529025191675794,\n        \"max\": 0.9810344827586207,\n        \"num_unique_values\": 13,\n        \"samples\": [\n          0.9694120014216379,\n          0.9529025191675794,\n          0.9731232622798888\n        ],\n        \"semantic_type\": \"\",\n        \"description\": \"\"\n      }\n    },\n    {\n      \"column\": \"precision\",\n      \"properties\": {\n        \"dtype\": \"number\",\n        \"std\": 0.012688072006882933,\n        \"min\": 0.9456521739130435,\n        \"max\": 0.9912891986062717,\n        \"num_unique_values\": 13,\n        \"samples\": [\n          0.9691248165251208,\n          0.9456521739130435,\n          0.9849906191369606\n        ],\n        \"semantic_type\": \"\",\n        \"description\": \"\"\n      }\n    },\n    {\n      \"column\": \"recall\",\n      \"properties\": {\n        \"dtype\": \"number\",\n        \"std\": 0.0053343328944854265,\n        \"min\": 0.9602649006622517,\n        \"max\": 0.9784313725490196,\n        \"num_unique_values\": 12,\n        \"samples\": [\n          0.9698,\n          0.9602649006622517,\n          0.9615384615384616\n        ],\n        \"semantic_type\": \"\",\n        \"description\": \"\"\n      }\n    },\n    {\n      \"column\": \"support\",\n      \"properties\": {\n        \"dtype\": \"number\",\n        \"std\": 1712.826527518978,\n        \"min\": 0.9698,\n        \"max\": 5000.0,\n        \"num_unique_values\": 12,\n        \"samples\": [\n          0.9698,\n          453.0,\n          546.0\n        ],\n        \"semantic_type\": \"\",\n        \"description\": \"\"\n      }\n    }\n  ]\n}"
            }
          },
          "metadata": {},
          "execution_count": 19
        }
      ]
    },
    {
      "cell_type": "markdown",
      "source": [
        "In the context of classification, 'support' refers to the number of instances or samples in a dataset that belong to a specific class. It represents the frequency or count of occurrences of each class in the dataset.\n",
        "\n",
        "Support values help assess the reliability and generalizability of classification models, as they indicate the amount of data available for each class and the potential challenges associated with imbalanced datasets."
      ],
      "metadata": {
        "id": "e4MCsxxn-IYY"
      }
    },
    {
      "cell_type": "markdown",
      "source": [
        "# Visualize Sample Test Results\n",
        "This cell displays test images and their labels in this format: predicted (ground-truth). The text will be green for accurately classified examples and red for incorrect predictions."
      ],
      "metadata": {
        "id": "TaDKPeXE-MS6"
      }
    },
    {
      "cell_type": "code",
      "source": [
        "# obtain one batch of test images\n",
        "images, labels = next(iter(test_loader))\n",
        "model.cpu()\n",
        "\n",
        "# get sample outputs\n",
        "output = model(images)\n",
        "# convert output probabilities to predicted class\n",
        "_, preds = torch.max(output, 1)\n",
        "\n",
        "# Create a 4x4 grid for displaying the images\n",
        "fig, axes = plt.subplots(4, 4, figsize=(8, 8))\n",
        "\n",
        "# Iterate over the images and display them in the grid\n",
        "for idx, ax in enumerate(axes.flat):\n",
        "  # Normalize the image tensor to [0, 1] range\n",
        "  image = images[idx].permute(1, 2, 0)\n",
        "  image = (image - image.min()) / (image.max() - image.min())\n",
        "  ax.imshow(image, cmap='gray')  # Display the image\n",
        "  ax.axis('off')  # Hide the axes\n",
        "  ax.set_title(\"{}\".format(classes[preds[idx]]),\n",
        "                 color=(\"green\" if preds[idx]==labels[idx] else \"red\"))  # Add title to the image\n",
        "plt.show()"
      ],
      "metadata": {
        "colab": {
          "base_uri": "https://localhost:8080/",
          "height": 675
        },
        "id": "ty1pTA2Y9hCl",
        "outputId": "61810dd9-d573-45f5-c1d6-e01afb90d6f7"
      },
      "execution_count": null,
      "outputs": [
        {
          "output_type": "display_data",
          "data": {
            "text/plain": [
              "<Figure size 800x800 with 16 Axes>"
            ],
            "image/png": "[encoded data removed]"
          },
          "metadata": {}
        }
      ]
    },
    {
      "cell_type": "markdown",
      "source": [
        "#Visualize wrongly classified image for each class"
      ],
      "metadata": {
        "id": "zjjLsPFL-TNJ"
      }
    },
    {
      "cell_type": "code",
      "source": [
        "# Visualize wrongly classified image for each class\n",
        "\n",
        "# Define the loader for all test data\n",
        "test_set_all = torchvision.datasets.MNIST(root='./data', train=False, download=False, transform=test_transform)\n",
        "test_loader_all = torch.utils.data.DataLoader(test_set_all, batch_size=128, shuffle=False, num_workers=2)\n",
        "\n",
        "pred_vec_all = []\n",
        "correct = 0\n",
        "test_loss = 0.0\n",
        "\n",
        "model.to(device)\n",
        "\n",
        "with torch.no_grad():\n",
        "    for data in test_loader_all:\n",
        "        batch, labels = data\n",
        "        batch, labels = batch.to(device), labels.to(device)\n",
        "        outputs = model(batch)\n",
        "        test_loss=criterion(outputs, labels)\n",
        "        _, predicted = torch.max(outputs, 1)\n",
        "        correct += (predicted == labels).sum().item()\n",
        "        pred_vec_all.append(predicted)\n",
        "    pred_vec_all = torch.cat(pred_vec_all)\n",
        "\n",
        "pred_vec_all = pred_vec_all.cpu().numpy()\n",
        "ground_truths = np.asarray(test_set_all.targets)\n",
        "incorrect_mask = pred_vec_all != ground_truths\n",
        "incorrect_images = [test_set_all.data[(ground_truths == label) & incorrect_mask][0] for label in range(10)]\n",
        "pred_results_all = [pred_vec_all[(ground_truths == label) & incorrect_mask][0] for label in range(10)]\n",
        "\n",
        "# show images\n",
        "fig, axes = plt.subplots(2, 5, figsize=(12, 6))\n",
        "i = 0\n",
        "for row in axes:\n",
        "  for axis in row:\n",
        "    axis.set_xticks([])\n",
        "    axis.set_yticks([])\n",
        "    axis.set_xlabel(\"Predicted: %s\" % classes[pred_results_all[i]], fontsize=14)\n",
        "    axis.imshow(incorrect_images[i], cmap='gray')\n",
        "    i += 1"
      ],
      "metadata": {
        "colab": {
          "base_uri": "https://localhost:8080/",
          "height": 473
        },
        "id": "TooeYJs2-Pz-",
        "outputId": "4f0bf365-d75c-4b79-9085-f4616bbe427e"
      },
      "execution_count": null,
      "outputs": [
        {
          "output_type": "display_data",
          "data": {
            "text/plain": [
              "<Figure size 1200x600 with 10 Axes>"
            ],
            "image/png": "[encoded data removed]"
          },
          "metadata": {}
        }
      ]
    },
    {
      "cell_type": "code",
      "source": [],
      "metadata": {
        "id": "11OqZzQXcZ5i"
      },
      "execution_count": null,
      "outputs": []
    }
  ]
}